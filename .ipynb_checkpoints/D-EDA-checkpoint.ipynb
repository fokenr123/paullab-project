{
 "cells": [
  {
   "cell_type": "markdown",
   "metadata": {},
   "source": [
    "## 1. 성별, 나이별"
   ]
  },
  {
   "cell_type": "code",
   "execution_count": 10,
   "metadata": {},
   "outputs": [],
   "source": [
    "import numpy as np\n",
    "import pandas as pd\n",
    "\n",
    "co = pd.read_csv('./data/daily_Confirmed2.csv' , index_col = ['Date'])\n",
    "de = pd.read_csv('./data/daily_Deceased.csv', index_col = ['Date'])"
   ]
  },
  {
   "cell_type": "markdown",
   "metadata": {},
   "source": [
    "## - 데이터 형식 "
   ]
  },
  {
   "cell_type": "code",
   "execution_count": 8,
   "metadata": {
    "scrolled": true
   },
   "outputs": [
    {
     "data": {
      "text/plain": [
       "Female         int64\n",
       "Male           int64\n",
       "0-9            int64\n",
       "10-            int64\n",
       "20-29          int64\n",
       "30-39          int64\n",
       "40-49          int64\n",
       "50-59          int64\n",
       "60-69          int64\n",
       "70-79          int64\n",
       "80-            int64\n",
       "Sum            int64\n",
       "daily_count    int64\n",
       "dtype: object"
      ]
     },
     "execution_count": 8,
     "metadata": {},
     "output_type": "execute_result"
    }
   ],
   "source": [
    "co.dtypes # 확진자 수 "
   ]
  },
  {
   "cell_type": "markdown",
   "metadata": {},
   "source": [
    "Female  - 남성\n",
    "Male    - 성별\n",
    "0-9     - 0~9세\n",
    "10-     - 10~19세\n",
    "20-29   - 20~29세\n",
    "30-39   - 30~39세\n",
    "40-49   - 40~49세\n",
    "50-59   - 50~59세\n",
    "60-69   - 60~69세\n",
    "70-79   - 70~79세\n",
    "80-     - 80 이상\n",
    "Sum     - 총 합계"
   ]
  },
  {
   "cell_type": "code",
   "execution_count": 9,
   "metadata": {
    "scrolled": true
   },
   "outputs": [
    {
     "data": {
      "text/plain": [
       "Female    int64\n",
       "Male      int64\n",
       "0-9       int64\n",
       "10-       int64\n",
       "20-29     int64\n",
       "30-39     int64\n",
       "40-49     int64\n",
       "50-59     int64\n",
       "60-69     int64\n",
       "70-79     int64\n",
       "80-       int64\n",
       "Sum       int64\n",
       "dtype: object"
      ]
     },
     "execution_count": 9,
     "metadata": {},
     "output_type": "execute_result"
    }
   ],
   "source": [
    "de.dtypes # 사망자 수 "
   ]
  },
  {
   "cell_type": "markdown",
   "metadata": {},
   "source": [
    "Female  - 남성\n",
    "Male    - 성별\n",
    "0-9     - 0~9세\n",
    "10-     - 10~19세\n",
    "20-29   - 20~29세\n",
    "30-39   - 30~39세\n",
    "40-49   - 40~49세\n",
    "50-59   - 50~59세\n",
    "60-69   - 60~69세\n",
    "70-79   - 70~79세\n",
    "80-     - 80 이상\n",
    "Sum     - 총 합계"
   ]
  }
 ],
 "metadata": {
  "kernelspec": {
   "display_name": "Python 3",
   "language": "python",
   "name": "python3"
  },
  "language_info": {
   "codemirror_mode": {
    "name": "ipython",
    "version": 3
   },
   "file_extension": ".py",
   "mimetype": "text/x-python",
   "name": "python",
   "nbconvert_exporter": "python",
   "pygments_lexer": "ipython3",
   "version": "3.7.6"
  }
 },
 "nbformat": 4,
 "nbformat_minor": 4
}
